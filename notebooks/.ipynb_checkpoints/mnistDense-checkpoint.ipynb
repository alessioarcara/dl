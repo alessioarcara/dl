{
 "cells": [
  {
   "cell_type": "markdown",
   "metadata": {
    "id": "B8wSwJnsjx5P"
   },
   "source": [
    "# Mnist classification with NNs\n",
    "A first example of a simple Neural Network, applied to a well known dataset."
   ]
  },
  {
   "cell_type": "code",
   "execution_count": 34,
   "metadata": {
    "id": "3wMZ2Ge6jw1E",
    "tags": []
   },
   "outputs": [],
   "source": [
    "from tensorflow.keras.layers import Input, Dense, Activation\n",
    "from tensorflow.keras.datasets import mnist\n",
    "from tensorflow.keras.models import Model\n",
    "from tensorflow.keras import utils\n",
    "import numpy as np"
   ]
  },
  {
   "cell_type": "code",
   "execution_count": 4,
   "metadata": {
    "tags": []
   },
   "outputs": [],
   "source": [
    "import matplotlib.pyplot as plt"
   ]
  },
  {
   "cell_type": "markdown",
   "metadata": {
    "id": "FDiNppLVkvqd"
   },
   "source": [
    "Let us load the mnist dataset"
   ]
  },
  {
   "cell_type": "code",
   "execution_count": 2,
   "metadata": {
    "colab": {
     "base_uri": "https://localhost:8080/"
    },
    "id": "wL8GyC0Nk14o",
    "outputId": "2fb5509c-8d5f-4a87-e9b8-3cf691280518",
    "tags": []
   },
   "outputs": [],
   "source": [
    "(x_train, y_train), (x_test, y_test) = mnist.load_data()"
   ]
  },
  {
   "cell_type": "code",
   "execution_count": 3,
   "metadata": {
    "colab": {
     "base_uri": "https://localhost:8080/"
    },
    "id": "ijhDuLwwlQrI",
    "outputId": "02bca448-0ef7-4c42-cb00-20a6874082d0",
    "tags": []
   },
   "outputs": [
    {
     "name": "stdout",
     "output_type": "stream",
     "text": [
      "(60000, 28, 28)\n",
      "pixel range is [0,255]\n"
     ]
    }
   ],
   "source": [
    "print(x_train.shape)\n",
    "print(\"pixel range is [{},{}]\".format(np.min(x_train),np.max(x_train)))"
   ]
  },
  {
   "cell_type": "code",
   "execution_count": 8,
   "metadata": {
    "tags": []
   },
   "outputs": [
    {
     "data": {
      "text/plain": [
       "(10000, 28, 28)"
      ]
     },
     "execution_count": 8,
     "metadata": {},
     "output_type": "execute_result"
    }
   ],
   "source": [
    "x_test.shape"
   ]
  },
  {
   "cell_type": "code",
   "execution_count": 9,
   "metadata": {
    "tags": []
   },
   "outputs": [
    {
     "data": {
      "image/png": "[encoded data removed]",
      "text/plain": [
       "<Figure size 640x480 with 1 Axes>"
      ]
     },
     "metadata": {},
     "output_type": "display_data"
    }
   ],
   "source": [
    "plt.imshow(x_train[1], cmap='gray')\n",
    "plt.show()"
   ]
  },
  {
   "cell_type": "markdown",
   "metadata": {
    "id": "D01L64YcnWO5"
   },
   "source": [
    "We normalize the input in the range [0,1]"
   ]
  },
  {
   "cell_type": "code",
   "execution_count": 21,
   "metadata": {
    "id": "a8uA2Kp7mG9s",
    "tags": []
   },
   "outputs": [],
   "source": [
    "x_train = x_train.astype('float32') / 255.\n",
    "x_test = x_test.astype('float32') / 255.\n",
    "\n",
    "# 2d -> 1d\n",
    "x_train = np.reshape(x_train,(60000,28*28))\n",
    "x_test = np.reshape(x_test,(10000,28*28))"
   ]
  },
  {
   "cell_type": "markdown",
   "metadata": {
    "id": "Yjrzmhgh3TZv"
   },
   "source": [
    "The output of the network will be a proability distribution over the different categories. Similarly, we generate a ground truth distribution, and the training objective will consist in minimizing their distance (categorical crossentropy). The ground truth distribution is the so called \"categorical\" distribution: if x has label l, the corresponding categorical distribution has probaility 1 for the category l, and 0 for all the others."
   ]
  },
  {
   "cell_type": "code",
   "execution_count": 22,
   "metadata": {
    "tags": []
   },
   "outputs": [
    {
     "data": {
      "text/plain": [
       "(60000,)"
      ]
     },
     "execution_count": 22,
     "metadata": {},
     "output_type": "execute_result"
    }
   ],
   "source": [
    "y_train.shape"
   ]
  },
  {
   "cell_type": "code",
   "execution_count": 23,
   "metadata": {
    "colab": {
     "base_uri": "https://localhost:8080/"
    },
    "id": "bhzWUm0UnODb",
    "outputId": "e0cf94cf-aabf-4d35-f84e-b481d72c10ec",
    "tags": []
   },
   "outputs": [
    {
     "name": "stdout",
     "output_type": "stream",
     "text": [
      "5\n",
      "[0. 0. 0. 0. 0. 1. 0. 0. 0. 0.]\n"
     ]
    }
   ],
   "source": [
    "print(y_train[0])\n",
    "y_train_cat = utils.to_categorical(y_train)\n",
    "print(y_train_cat[0])\n",
    "y_test_cat = utils.to_categorical(y_test)"
   ]
  },
  {
   "cell_type": "markdown",
   "metadata": {
    "id": "sfeZF3bUrFZf"
   },
   "source": [
    "Our first Netwok just implements logistic regression"
   ]
  },
  {
   "cell_type": "code",
   "execution_count": 24,
   "metadata": {
    "id": "hBJtMj2pqJiR",
    "tags": []
   },
   "outputs": [],
   "source": [
    "xin = Input(shape=(784))\n",
    "res = Dense(10,activation='softmax')(xin)\n",
    "\n",
    "mynet = Model(inputs=xin,outputs=res)"
   ]
  },
  {
   "cell_type": "code",
   "execution_count": 25,
   "metadata": {
    "colab": {
     "base_uri": "https://localhost:8080/"
    },
    "id": "hXD5JT2ZrTJc",
    "outputId": "36886e01-b9bb-4729-a1ad-257e43f09726",
    "tags": []
   },
   "outputs": [
    {
     "name": "stdout",
     "output_type": "stream",
     "text": [
      "Model: \"model_1\"\n",
      "_________________________________________________________________\n",
      " Layer (type)                Output Shape              Param #   \n",
      "=================================================================\n",
      " input_3 (InputLayer)        [(None, 784)]             0         \n",
      "                                                                 \n",
      " dense_2 (Dense)             (None, 10)                7850      \n",
      "                                                                 \n",
      "=================================================================\n",
      "Total params: 7850 (30.66 KB)\n",
      "Trainable params: 7850 (30.66 KB)\n",
      "Non-trainable params: 0 (0.00 Byte)\n",
      "_________________________________________________________________\n"
     ]
    }
   ],
   "source": [
    "mynet.summary()"
   ]
  },
  {
   "cell_type": "markdown",
   "metadata": {},
   "source": [
    "`None` is the batch dimension"
   ]
  },
  {
   "cell_type": "markdown",
   "metadata": {
    "id": "bcjcOz8yrk5X"
   },
   "source": [
    "Now we need to compile the network.\n",
    "In order to do it, we need to pass two mandatory arguments:\n",
    "\n",
    "\n",
    "*   the **optimizer**, in charge of governing the details of the backpropagation algorithm\n",
    "*   the **loss function**\n",
    "\n",
    "Several predefined optimizers exist, and you should just choose your favourite one. A common choice is Adam, implementing an adaptive lerning rate, with momentum\n",
    "\n",
    "Optionally, we can specify additional metrics, mostly meant for monitoring the training process.\n"
   ]
  },
  {
   "cell_type": "markdown",
   "metadata": {},
   "source": [
    "in keras we compile the model and we specify:\n",
    "- the loss \n",
    "- the optimizer"
   ]
  },
  {
   "cell_type": "code",
   "execution_count": 26,
   "metadata": {
    "id": "7XK20mAFrrkQ",
    "tags": []
   },
   "outputs": [],
   "source": [
    "mynet.compile(optimizer='adam',loss='categorical_crossentropy',metrics=['accuracy'])"
   ]
  },
  {
   "cell_type": "markdown",
   "metadata": {
    "id": "E58bT-Imvsw2"
   },
   "source": [
    "Finally, we fit the model over the trianing set. \n",
    "\n",
    "Fitting, just requires two arguments: training data e ground truth, that is x and y. Additionally we can specify epochs, batch_size, and many additional arguments.\n",
    "\n",
    "In particular, passing validation data allow the training procedure to measure loss and metrics on the validation set at the end of each epoch."
   ]
  },
  {
   "cell_type": "markdown",
   "metadata": {},
   "source": [
    "* `epoch` how many times we pass on training data\n",
    "* `batch_size` how many samples to process in parallel"
   ]
  },
  {
   "cell_type": "code",
   "execution_count": 28,
   "metadata": {
    "colab": {
     "base_uri": "https://localhost:8080/"
    },
    "id": "l2woDXbbr6ak",
    "outputId": "493cdebc-26fc-454f-d664-f1f1a60c1043",
    "tags": []
   },
   "outputs": [
    {
     "name": "stdout",
     "output_type": "stream",
     "text": [
      "Epoch 1/10\n",
      "1875/1875 [==============================] - 1s 756us/step - loss: 0.2494 - accuracy: 0.9312 - val_loss: 0.2704 - val_accuracy: 0.9255\n",
      "Epoch 2/10\n",
      "1875/1875 [==============================] - 1s 743us/step - loss: 0.2479 - accuracy: 0.9320 - val_loss: 0.2680 - val_accuracy: 0.9249\n",
      "Epoch 3/10\n",
      "1875/1875 [==============================] - 1s 752us/step - loss: 0.2460 - accuracy: 0.9317 - val_loss: 0.2705 - val_accuracy: 0.9256\n",
      "Epoch 4/10\n",
      "1875/1875 [==============================] - 1s 746us/step - loss: 0.2453 - accuracy: 0.9319 - val_loss: 0.2663 - val_accuracy: 0.9255\n",
      "Epoch 5/10\n",
      "1875/1875 [==============================] - 1s 740us/step - loss: 0.2437 - accuracy: 0.9326 - val_loss: 0.2690 - val_accuracy: 0.9264\n",
      "Epoch 6/10\n",
      "1875/1875 [==============================] - 1s 746us/step - loss: 0.2435 - accuracy: 0.9330 - val_loss: 0.2650 - val_accuracy: 0.9275\n",
      "Epoch 7/10\n",
      "1875/1875 [==============================] - 1s 749us/step - loss: 0.2425 - accuracy: 0.9326 - val_loss: 0.2666 - val_accuracy: 0.9277\n",
      "Epoch 8/10\n",
      "1875/1875 [==============================] - 1s 750us/step - loss: 0.2414 - accuracy: 0.9337 - val_loss: 0.2704 - val_accuracy: 0.9262\n",
      "Epoch 9/10\n",
      "1875/1875 [==============================] - 1s 743us/step - loss: 0.2403 - accuracy: 0.9336 - val_loss: 0.2679 - val_accuracy: 0.9277\n",
      "Epoch 10/10\n",
      "1875/1875 [==============================] - 1s 743us/step - loss: 0.2400 - accuracy: 0.9340 - val_loss: 0.2712 - val_accuracy: 0.9262\n"
     ]
    },
    {
     "data": {
      "text/plain": [
       "<keras.src.callbacks.History at 0x2e2b26450>"
      ]
     },
     "execution_count": 28,
     "metadata": {},
     "output_type": "execute_result"
    }
   ],
   "source": [
    "mynet.fit(x_train,y_train_cat, shuffle=True, epochs=10, batch_size=32,validation_data=(x_test,y_test_cat))"
   ]
  },
  {
   "cell_type": "code",
   "execution_count": 35,
   "metadata": {
    "id": "k0mBuorMulG5",
    "tags": []
   },
   "outputs": [],
   "source": [
    "xin = Input(shape=(784))\n",
    "# x = Dense(128,activation='relu')(xin)\n",
    "x = Dense(128)(xin)\n",
    "x = Activation('relu')(x)\n",
    "res = Dense(10,activation='softmax')(x)\n",
    "\n",
    "mynet2 = Model(inputs=xin,outputs=res)"
   ]
  },
  {
   "cell_type": "code",
   "execution_count": 36,
   "metadata": {
    "colab": {
     "base_uri": "https://localhost:8080/"
    },
    "id": "SpMyvw7buzhT",
    "outputId": "bb66d7c4-39fa-4a9b-891d-ea7f1662bd41",
    "tags": []
   },
   "outputs": [
    {
     "name": "stdout",
     "output_type": "stream",
     "text": [
      "Model: \"model_3\"\n",
      "_________________________________________________________________\n",
      " Layer (type)                Output Shape              Param #   \n",
      "=================================================================\n",
      " input_6 (InputLayer)        [(None, 784)]             0         \n",
      "                                                                 \n",
      " dense_6 (Dense)             (None, 128)               100480    \n",
      "                                                                 \n",
      " activation (Activation)     (None, 128)               0         \n",
      "                                                                 \n",
      " dense_7 (Dense)             (None, 10)                1290      \n",
      "                                                                 \n",
      "=================================================================\n",
      "Total params: 101770 (397.54 KB)\n",
      "Trainable params: 101770 (397.54 KB)\n",
      "Non-trainable params: 0 (0.00 Byte)\n",
      "_________________________________________________________________\n"
     ]
    }
   ],
   "source": [
    "mynet2.summary()"
   ]
  },
  {
   "cell_type": "code",
   "execution_count": 37,
   "metadata": {
    "id": "rYg0odW2u6cn",
    "tags": []
   },
   "outputs": [],
   "source": [
    "mynet2.compile(optimizer='adam',loss='categorical_crossentropy',metrics=['accuracy'])"
   ]
  },
  {
   "cell_type": "code",
   "execution_count": 38,
   "metadata": {
    "colab": {
     "base_uri": "https://localhost:8080/"
    },
    "id": "KDnzgIZVvGOm",
    "outputId": "cb25ba03-19bb-4197-de31-790e50c39cb5",
    "tags": []
   },
   "outputs": [
    {
     "name": "stdout",
     "output_type": "stream",
     "text": [
      "Epoch 1/10\n",
      "1875/1875 [==============================] - 2s 1ms/step - loss: 0.2572 - accuracy: 0.9274 - val_loss: 0.1392 - val_accuracy: 0.9575\n",
      "Epoch 2/10\n",
      "1875/1875 [==============================] - 2s 1ms/step - loss: 0.1116 - accuracy: 0.9670 - val_loss: 0.0924 - val_accuracy: 0.9732\n",
      "Epoch 3/10\n",
      "1875/1875 [==============================] - 2s 1ms/step - loss: 0.0763 - accuracy: 0.9770 - val_loss: 0.0783 - val_accuracy: 0.9762\n",
      "Epoch 4/10\n",
      "1875/1875 [==============================] - 2s 1ms/step - loss: 0.0586 - accuracy: 0.9817 - val_loss: 0.0742 - val_accuracy: 0.9776\n",
      "Epoch 5/10\n",
      "1875/1875 [==============================] - 2s 1ms/step - loss: 0.0443 - accuracy: 0.9859 - val_loss: 0.0672 - val_accuracy: 0.9791\n",
      "Epoch 6/10\n",
      "1875/1875 [==============================] - 2s 1ms/step - loss: 0.0355 - accuracy: 0.9890 - val_loss: 0.0663 - val_accuracy: 0.9794\n",
      "Epoch 7/10\n",
      "1875/1875 [==============================] - 2s 1ms/step - loss: 0.0274 - accuracy: 0.9915 - val_loss: 0.0688 - val_accuracy: 0.9786\n",
      "Epoch 8/10\n",
      "1875/1875 [==============================] - 2s 1ms/step - loss: 0.0228 - accuracy: 0.9930 - val_loss: 0.0697 - val_accuracy: 0.9805\n",
      "Epoch 9/10\n",
      "1875/1875 [==============================] - 2s 1ms/step - loss: 0.0182 - accuracy: 0.9945 - val_loss: 0.0791 - val_accuracy: 0.9789\n",
      "Epoch 10/10\n",
      "1875/1875 [==============================] - 2s 1ms/step - loss: 0.0159 - accuracy: 0.9949 - val_loss: 0.0811 - val_accuracy: 0.9772\n"
     ]
    },
    {
     "data": {
      "text/plain": [
       "<keras.src.callbacks.History at 0x2e28b7d10>"
      ]
     },
     "execution_count": 38,
     "metadata": {},
     "output_type": "execute_result"
    }
   ],
   "source": [
    "mynet2.fit(x_train,y_train_cat, shuffle=True, epochs=10, batch_size=32,validation_data=(x_test,y_test_cat))"
   ]
  },
  {
   "cell_type": "markdown",
   "metadata": {
    "id": "UcUKxCzKwzG9"
   },
   "source": [
    "An amazing improvement. WOW!"
   ]
  },
  {
   "cell_type": "code",
   "execution_count": 39,
   "metadata": {
    "tags": []
   },
   "outputs": [],
   "source": [
    "mynet2.save_weights('myfile')"
   ]
  },
  {
   "cell_type": "code",
   "execution_count": 40,
   "metadata": {
    "tags": []
   },
   "outputs": [
    {
     "data": {
      "text/plain": [
       "<tensorflow.python.checkpoint.checkpoint.CheckpointLoadStatus at 0x1047ad950>"
      ]
     },
     "execution_count": 40,
     "metadata": {},
     "output_type": "execute_result"
    }
   ],
   "source": [
    "mynet2.load_weights('myfile')"
   ]
  },
  {
   "cell_type": "markdown",
   "metadata": {
    "id": "JJr0EnAkw6nf"
   },
   "source": [
    "# Exercises\n",
    "\n",
    "1.   Add additional Dense layers and check the performance of the network\n",
    "2.   Replace 'relu' with different activation functions\n",
    "3. Adapt the network to work with the so called sparse_categorical_crossentropy\n",
    "4. the fit function return a history of training, with temporal sequences for all different metrics. Make a plot.\n",
    "\n"
   ]
  },
  {
   "cell_type": "code",
   "execution_count": null,
   "metadata": {},
   "outputs": [],
   "source": []
  }
 ],
 "metadata": {
  "accelerator": "GPU",
  "colab": {
   "name": "mnistDense.ipynb",
   "provenance": []
  },
  "kernelspec": {
   "display_name": "Python 3 (ipykernel)",
   "language": "python",
   "name": "python3"
  },
  "language_info": {
   "codemirror_mode": {
    "name": "ipython",
    "version": 3
   },
   "file_extension": ".py",
   "mimetype": "text/x-python",
   "name": "python",
   "nbconvert_exporter": "python",
   "pygments_lexer": "ipython3",
   "version": "3.11.7"
  }
 },
 "nbformat": 4,
 "nbformat_minor": 4
}
